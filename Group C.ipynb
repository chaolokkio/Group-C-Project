{
 "cells": [
  {
   "cell_type": "markdown",
   "metadata": {},
   "source": [
    "# Topic: Movie Analyzation"
   ]
  },
  {
   "cell_type": "markdown",
   "metadata": {},
   "source": [
    "Group C Members:\n",
    "MB955048 Chao Lok Kio Vicky;\n",
    "MB955464 Lei Sin Ian Fio;\n",
    "MB955473 Tou Ka Him Henry"
   ]
  },
  {
   "cell_type": "markdown",
   "metadata": {},
   "source": [
    "#  Introduction\n",
    "In this project, we are interested in analyzing the behaviour of movie selection of people. We have chosen some critical elements that are important to a movie selection for our analysis.  In our work, we have applied the techniques we have learnt in Python and some Python libraries to analyze and visualize the relationship of each element.\n"
   ]
  },
  {
   "cell_type": "markdown",
   "metadata": {},
   "source": [
    "# Data Source"
   ]
  },
  {
   "cell_type": "markdown",
   "metadata": {},
   "source": [
    "The Data Source is obtained from Kaggle:      movies_metadata.csv \n",
    "(https://www.kaggle.com/rounakbanik/the-movies-dataset)"
   ]
  },
  {
   "cell_type": "markdown",
   "metadata": {},
   "source": [
    "# Import Libraries"
   ]
  },
  {
   "cell_type": "markdown",
   "metadata": {},
   "source": [
    "We have make used of different libraries in our work: \n",
    "\n",
    "•\tNumpy: it is a fundamental package for scientific computing with Python\n",
    "\n",
    "•\tPandas: it is an open source, BSD-licensed library providing high-performance, easy-to-use data structures and data analysis tools for the Python programming language\n",
    "\n",
    "•\tMatplotlib.pyplot: it is a state-based interface to matplotlib and provides a MATLAB-like way of plotting\n",
    "\n",
    "•\tAst (Literal_eval): it is used for safely evaluating strings containing Python expressions from untrusted sources without the need to parse the values oneself\n",
    "\n",
    "•\tSeaborn: a Python data visualization library based on matplotlib. It provides a high-level interface for drawing attractive and informative statistical graphics\n",
    "\n",
    "•\tPlotly: a Python library that is known for developing and providing online analytics, statistics and graphing tools\n"
   ]
  },
  {
   "cell_type": "markdown",
   "metadata": {},
   "source": [
    "If Plotly is not installed, you need to run the following codes and install it first:"
   ]
  },
  {
   "cell_type": "code",
   "execution_count": 1,
   "metadata": {
    "scrolled": true
   },
   "outputs": [],
   "source": [
    "#import sys\n",
    "#!conda install --yes --prefix {sys.prefix} plotly"
   ]
  },
  {
   "cell_type": "code",
   "execution_count": 2,
   "metadata": {},
   "outputs": [
    {
     "data": {
      "text/html": [
       "        <script type=\"text/javascript\">\n",
       "        window.PlotlyConfig = {MathJaxConfig: 'local'};\n",
       "        if (window.MathJax) {MathJax.Hub.Config({SVG: {font: \"STIX-Web\"}});}\n",
       "        if (typeof require !== 'undefined') {\n",
       "        require.undef(\"plotly\");\n",
       "        requirejs.config({\n",
       "            paths: {\n",
       "                'plotly': ['https://cdn.plot.ly/plotly-latest.min']\n",
       "            }\n",
       "        });\n",
       "        require(['plotly'], function(Plotly) {\n",
       "            window._Plotly = Plotly;\n",
       "        });\n",
       "        }\n",
       "        </script>\n",
       "        "
      ]
     },
     "metadata": {},
     "output_type": "display_data"
    }
   ],
   "source": [
    "#import\n",
    "import pandas as pd\n",
    "import numpy as np\n",
    "import seaborn as sns\n",
    "import matplotlib.pyplot as plt\n",
    "import ast\n",
    "from ast import literal_eval\n",
    "import plotly.graph_objs as go\n",
    "from plotly.offline import init_notebook_mode,iplot\n",
    "init_notebook_mode(connected=True) "
   ]
  },
  {
   "cell_type": "markdown",
   "metadata": {},
   "source": [
    "# Import Datasets"
   ]
  },
  {
   "cell_type": "markdown",
   "metadata": {},
   "source": [
    "This dataset contain a few csv files and we have just chosen two files for our analyzation after reading the description of each data set. Also, in one of our datasets, the column ID is different from the others, so when are importing the dataset, we have renamed the column ID and calculated the mean rating for each movie. \n",
    "\n",
    "Then, as we are using 2 csv files, we have merged these two files in our next step."
   ]
  },
  {
   "cell_type": "code",
   "execution_count": 3,
   "metadata": {},
   "outputs": [],
   "source": [
    "#dk=pd.read_csv(\"keywords.csv\",low_memory=False)\n",
    "#dc=pd.read_csv(\"credits.csv\",low_memory=False)\n",
    "dr=pd.read_csv(\"ratings.csv\",low_memory=False)\n",
    "dm=pd.read_csv(\"movies_metadata.csv\",low_memory=False)"
   ]
  },
  {
   "cell_type": "code",
   "execution_count": 4,
   "metadata": {
    "scrolled": false
   },
   "outputs": [
    {
     "data": {
      "text/html": [
       "<div>\n",
       "<style scoped>\n",
       "    .dataframe tbody tr th:only-of-type {\n",
       "        vertical-align: middle;\n",
       "    }\n",
       "\n",
       "    .dataframe tbody tr th {\n",
       "        vertical-align: top;\n",
       "    }\n",
       "\n",
       "    .dataframe thead th {\n",
       "        text-align: right;\n",
       "    }\n",
       "</style>\n",
       "<table border=\"1\" class=\"dataframe\">\n",
       "  <thead>\n",
       "    <tr style=\"text-align: right;\">\n",
       "      <th></th>\n",
       "      <th>userId</th>\n",
       "      <th>rating</th>\n",
       "      <th>timestamp</th>\n",
       "    </tr>\n",
       "    <tr>\n",
       "      <th>id</th>\n",
       "      <th></th>\n",
       "      <th></th>\n",
       "      <th></th>\n",
       "    </tr>\n",
       "  </thead>\n",
       "  <tbody>\n",
       "    <tr>\n",
       "      <td>1</td>\n",
       "      <td>135121.043616</td>\n",
       "      <td>3.888157</td>\n",
       "      <td>1.113440e+09</td>\n",
       "    </tr>\n",
       "    <tr>\n",
       "      <td>2</td>\n",
       "      <td>134877.953761</td>\n",
       "      <td>3.236953</td>\n",
       "      <td>1.088621e+09</td>\n",
       "    </tr>\n",
       "    <tr>\n",
       "      <td>3</td>\n",
       "      <td>136520.452733</td>\n",
       "      <td>3.175550</td>\n",
       "      <td>9.661124e+08</td>\n",
       "    </tr>\n",
       "    <tr>\n",
       "      <td>4</td>\n",
       "      <td>136249.536062</td>\n",
       "      <td>2.875713</td>\n",
       "      <td>9.390243e+08</td>\n",
       "    </tr>\n",
       "    <tr>\n",
       "      <td>5</td>\n",
       "      <td>135293.275855</td>\n",
       "      <td>3.079565</td>\n",
       "      <td>9.896788e+08</td>\n",
       "    </tr>\n",
       "  </tbody>\n",
       "</table>\n",
       "</div>"
      ],
      "text/plain": [
       "           userId    rating     timestamp\n",
       "id                                       \n",
       "1   135121.043616  3.888157  1.113440e+09\n",
       "2   134877.953761  3.236953  1.088621e+09\n",
       "3   136520.452733  3.175550  9.661124e+08\n",
       "4   136249.536062  2.875713  9.390243e+08\n",
       "5   135293.275855  3.079565  9.896788e+08"
      ]
     },
     "execution_count": 4,
     "metadata": {},
     "output_type": "execute_result"
    }
   ],
   "source": [
    "dr=dr.rename(columns={\"movieId\":\"id\"})\n",
    "dr=dr.groupby('id').mean()\n",
    "dr.head()"
   ]
  },
  {
   "cell_type": "code",
   "execution_count": 5,
   "metadata": {
    "scrolled": true
   },
   "outputs": [
    {
     "data": {
      "text/plain": [
       "(45466, 27)"
      ]
     },
     "execution_count": 5,
     "metadata": {},
     "output_type": "execute_result"
    }
   ],
   "source": [
    "#merge files\n",
    "data=pd.merge(dm,dr,on=\"id\",how='left')\n",
    "data.shape"
   ]
  },
  {
   "cell_type": "markdown",
   "metadata": {},
   "source": [
    "# Data Cleaning"
   ]
  },
  {
   "cell_type": "markdown",
   "metadata": {},
   "source": [
    "First, we have chosen the corresponding elements for our data analysis, then we need to check whether these columns contain any null values. Also, we have checked the datatypes for each column and we need to change the data type for \"popularity\", \"budget\", \"vote_count\", \"vote_average\" to \"float64\" and \"release_date\" to \"datetime64[ns]\"."
   ]
  },
  {
   "cell_type": "code",
   "execution_count": 6,
   "metadata": {},
   "outputs": [],
   "source": [
    "data=data[['id','title','genres','budget','popularity',\n",
    "           'release_date','revenue','rating','vote_count',\n",
    "           'vote_average','overview','runtime','production_countries']]"
   ]
  },
  {
   "cell_type": "code",
   "execution_count": 7,
   "metadata": {},
   "outputs": [
    {
     "data": {
      "text/plain": [
       "id                        int64\n",
       "title                    object\n",
       "genres                   object\n",
       "budget                   object\n",
       "popularity               object\n",
       "release_date             object\n",
       "revenue                 float64\n",
       "rating                  float64\n",
       "vote_count              float64\n",
       "vote_average            float64\n",
       "overview                 object\n",
       "runtime                 float64\n",
       "production_countries     object\n",
       "dtype: object"
      ]
     },
     "execution_count": 7,
     "metadata": {},
     "output_type": "execute_result"
    }
   ],
   "source": [
    "data.dtypes"
   ]
  },
  {
   "cell_type": "code",
   "execution_count": 8,
   "metadata": {},
   "outputs": [],
   "source": [
    "data.dropna(subset=[\"popularity\"],inplace=True)\n",
    "data['popularity'] = pd.to_numeric(data['popularity'], errors='coerce')"
   ]
  },
  {
   "cell_type": "code",
   "execution_count": 9,
   "metadata": {},
   "outputs": [],
   "source": [
    "data['budget'] = pd.to_numeric(data['budget'], errors='coerce')\n",
    "data['budget'] = data['budget'].replace(0, np.nan)\n",
    "data['revenue'] = data['revenue'].replace(0, np.nan)"
   ]
  },
  {
   "cell_type": "code",
   "execution_count": 10,
   "metadata": {},
   "outputs": [],
   "source": [
    "data['release_date'] = pd.to_datetime(data['release_date'],format = '%Y-%m-%d', errors='coerce')"
   ]
  },
  {
   "cell_type": "code",
   "execution_count": 11,
   "metadata": {},
   "outputs": [],
   "source": [
    "vote_counts = data[data['vote_count'].notnull()]['vote_count'].astype('int')\n",
    "vote_averages = data[data['vote_average'].notnull()]['vote_average'].astype('int')"
   ]
  },
  {
   "cell_type": "markdown",
   "metadata": {},
   "source": [
    "For the data in \"genres\" and \"production_countries\", as they are presented in dictionaries in list, we have applied the following codes to get back the values of dictionaries."
   ]
  },
  {
   "cell_type": "code",
   "execution_count": 12,
   "metadata": {},
   "outputs": [],
   "source": [
    "def get_values(data_str):\n",
    "    if isinstance(data_str, float):\n",
    "        pass\n",
    "    else:\n",
    "        values = []\n",
    "        data_str = ast.literal_eval(data_str)\n",
    "        if isinstance(data_str, list):\n",
    "            for k_v in data_str:\n",
    "                values.append(k_v['name'])\n",
    "            return values\n",
    "        else:\n",
    "            return None"
   ]
  },
  {
   "cell_type": "code",
   "execution_count": 13,
   "metadata": {},
   "outputs": [],
   "source": [
    "data[['genres','production_countries']] = data[['genres','production_countries']].applymap(get_values)"
   ]
  },
  {
   "cell_type": "markdown",
   "metadata": {},
   "source": [
    "Lastly, we check the data types once again and see whether the data types match our expecations or not."
   ]
  },
  {
   "cell_type": "code",
   "execution_count": 14,
   "metadata": {},
   "outputs": [
    {
     "data": {
      "text/plain": [
       "id                               int64\n",
       "title                           object\n",
       "genres                          object\n",
       "budget                         float64\n",
       "popularity                     float64\n",
       "release_date            datetime64[ns]\n",
       "revenue                        float64\n",
       "rating                         float64\n",
       "vote_count                     float64\n",
       "vote_average                   float64\n",
       "overview                        object\n",
       "runtime                        float64\n",
       "production_countries            object\n",
       "dtype: object"
      ]
     },
     "execution_count": 14,
     "metadata": {},
     "output_type": "execute_result"
    }
   ],
   "source": [
    "data.dtypes"
   ]
  },
  {
   "cell_type": "markdown",
   "metadata": {},
   "source": [
    "#### Finally, a cleaned dataset is obtained:"
   ]
  },
  {
   "cell_type": "code",
   "execution_count": 15,
   "metadata": {
    "scrolled": false
   },
   "outputs": [
    {
     "data": {
      "text/html": [
       "<div>\n",
       "<style scoped>\n",
       "    .dataframe tbody tr th:only-of-type {\n",
       "        vertical-align: middle;\n",
       "    }\n",
       "\n",
       "    .dataframe tbody tr th {\n",
       "        vertical-align: top;\n",
       "    }\n",
       "\n",
       "    .dataframe thead th {\n",
       "        text-align: right;\n",
       "    }\n",
       "</style>\n",
       "<table border=\"1\" class=\"dataframe\">\n",
       "  <thead>\n",
       "    <tr style=\"text-align: right;\">\n",
       "      <th></th>\n",
       "      <th>id</th>\n",
       "      <th>title</th>\n",
       "      <th>genres</th>\n",
       "      <th>budget</th>\n",
       "      <th>popularity</th>\n",
       "      <th>release_date</th>\n",
       "      <th>revenue</th>\n",
       "      <th>rating</th>\n",
       "      <th>vote_count</th>\n",
       "      <th>vote_average</th>\n",
       "      <th>overview</th>\n",
       "      <th>runtime</th>\n",
       "      <th>production_countries</th>\n",
       "    </tr>\n",
       "  </thead>\n",
       "  <tbody>\n",
       "    <tr>\n",
       "      <td>34940</td>\n",
       "      <td>315946</td>\n",
       "      <td>Passage of Venus</td>\n",
       "      <td>[Documentary]</td>\n",
       "      <td>NaN</td>\n",
       "      <td>0.480371</td>\n",
       "      <td>1874-12-09</td>\n",
       "      <td>NaN</td>\n",
       "      <td>NaN</td>\n",
       "      <td>19.0</td>\n",
       "      <td>6.0</td>\n",
       "      <td>Photo sequence of the rare transit of Venus ov...</td>\n",
       "      <td>1.0</td>\n",
       "      <td>[France]</td>\n",
       "    </tr>\n",
       "    <tr>\n",
       "      <td>34937</td>\n",
       "      <td>194079</td>\n",
       "      <td>Sallie Gardner at a Gallop</td>\n",
       "      <td>[Documentary]</td>\n",
       "      <td>NaN</td>\n",
       "      <td>0.327841</td>\n",
       "      <td>1878-06-14</td>\n",
       "      <td>NaN</td>\n",
       "      <td>NaN</td>\n",
       "      <td>25.0</td>\n",
       "      <td>6.2</td>\n",
       "      <td>Sallie Gardner at a Gallop was one of the earl...</td>\n",
       "      <td>1.0</td>\n",
       "      <td>[United States of America]</td>\n",
       "    </tr>\n",
       "    <tr>\n",
       "      <td>41602</td>\n",
       "      <td>426903</td>\n",
       "      <td>Buffalo Running</td>\n",
       "      <td>[Documentary]</td>\n",
       "      <td>NaN</td>\n",
       "      <td>0.229221</td>\n",
       "      <td>1883-11-19</td>\n",
       "      <td>NaN</td>\n",
       "      <td>NaN</td>\n",
       "      <td>7.0</td>\n",
       "      <td>5.4</td>\n",
       "      <td>Individual photographs of the running of a buf...</td>\n",
       "      <td>1.0</td>\n",
       "      <td>[United States of America]</td>\n",
       "    </tr>\n",
       "    <tr>\n",
       "      <td>34933</td>\n",
       "      <td>159897</td>\n",
       "      <td>Man Walking Around a Corner</td>\n",
       "      <td>[Documentary]</td>\n",
       "      <td>NaN</td>\n",
       "      <td>1.184891</td>\n",
       "      <td>1887-08-18</td>\n",
       "      <td>NaN</td>\n",
       "      <td>NaN</td>\n",
       "      <td>17.0</td>\n",
       "      <td>4.1</td>\n",
       "      <td>The last remaining production of Le Prince's L...</td>\n",
       "      <td>1.0</td>\n",
       "      <td>[United States of America]</td>\n",
       "    </tr>\n",
       "    <tr>\n",
       "      <td>34934</td>\n",
       "      <td>96882</td>\n",
       "      <td>Accordion Player</td>\n",
       "      <td>[Documentary]</td>\n",
       "      <td>NaN</td>\n",
       "      <td>0.212768</td>\n",
       "      <td>1888-01-01</td>\n",
       "      <td>NaN</td>\n",
       "      <td>NaN</td>\n",
       "      <td>18.0</td>\n",
       "      <td>4.4</td>\n",
       "      <td>The last remaining film of Le Prince's LPCCP T...</td>\n",
       "      <td>1.0</td>\n",
       "      <td>[United Kingdom]</td>\n",
       "    </tr>\n",
       "  </tbody>\n",
       "</table>\n",
       "</div>"
      ],
      "text/plain": [
       "           id                        title         genres  budget  popularity  \\\n",
       "34940  315946             Passage of Venus  [Documentary]     NaN    0.480371   \n",
       "34937  194079   Sallie Gardner at a Gallop  [Documentary]     NaN    0.327841   \n",
       "41602  426903              Buffalo Running  [Documentary]     NaN    0.229221   \n",
       "34933  159897  Man Walking Around a Corner  [Documentary]     NaN    1.184891   \n",
       "34934   96882             Accordion Player  [Documentary]     NaN    0.212768   \n",
       "\n",
       "      release_date  revenue  rating  vote_count  vote_average  \\\n",
       "34940   1874-12-09      NaN     NaN        19.0           6.0   \n",
       "34937   1878-06-14      NaN     NaN        25.0           6.2   \n",
       "41602   1883-11-19      NaN     NaN         7.0           5.4   \n",
       "34933   1887-08-18      NaN     NaN        17.0           4.1   \n",
       "34934   1888-01-01      NaN     NaN        18.0           4.4   \n",
       "\n",
       "                                                overview  runtime  \\\n",
       "34940  Photo sequence of the rare transit of Venus ov...      1.0   \n",
       "34937  Sallie Gardner at a Gallop was one of the earl...      1.0   \n",
       "41602  Individual photographs of the running of a buf...      1.0   \n",
       "34933  The last remaining production of Le Prince's L...      1.0   \n",
       "34934  The last remaining film of Le Prince's LPCCP T...      1.0   \n",
       "\n",
       "             production_countries  \n",
       "34940                    [France]  \n",
       "34937  [United States of America]  \n",
       "41602  [United States of America]  \n",
       "34933  [United States of America]  \n",
       "34934            [United Kingdom]  "
      ]
     },
     "execution_count": 15,
     "metadata": {},
     "output_type": "execute_result"
    }
   ],
   "source": [
    "data.sort_values(by=\"release_date\").head()"
   ]
  },
  {
   "cell_type": "markdown",
   "metadata": {},
   "source": [
    "# Analysis"
   ]
  },
  {
   "cell_type": "markdown",
   "metadata": {},
   "source": [
    "### The Correlations Between Elements:"
   ]
  },
  {
   "cell_type": "code",
   "execution_count": 16,
   "metadata": {},
   "outputs": [],
   "source": [
    "data['profit'] = data['revenue'] -data['budget']"
   ]
  },
  {
   "cell_type": "code",
   "execution_count": 17,
   "metadata": {
    "scrolled": true
   },
   "outputs": [
    {
     "data": {
      "text/plain": [
       "<matplotlib.axes._subplots.AxesSubplot at 0x1a2329f150>"
      ]
     },
     "execution_count": 17,
     "metadata": {},
     "output_type": "execute_result"
    },
    {
     "data": {
      "image/png": "[encoded data removed]",
      "text/plain": [
       "<Figure size 432x288 with 2 Axes>"
      ]
     },
     "metadata": {
      "needs_background": "light"
     },
     "output_type": "display_data"
    }
   ],
   "source": [
    "sns.heatmap(data.corr(), cmap = 'YlGnBu')"
   ]
  },
  {
   "cell_type": "markdown",
   "metadata": {},
   "source": [
    "From the above graph, we have found out that budget, revenue, profit and vote_count are correlated. It states that the higher budget movies can result in a higher revenue, but it doesn't represent that they have a high rating as the vote_count is not correlated with the ratings."
   ]
  },
  {
   "cell_type": "markdown",
   "metadata": {},
   "source": [
    "### Top 10 Movie Types:"
   ]
  },
  {
   "cell_type": "code",
   "execution_count": 18,
   "metadata": {},
   "outputs": [],
   "source": [
    "def counting_values(df, column):\n",
    "    value_count = {}\n",
    "    for row in df[column].dropna():\n",
    "        if len(row) > 0:\n",
    "            for key in row:\n",
    "                if key in value_count:\n",
    "                    value_count[key] += 1\n",
    "                else:\n",
    "                    value_count[key] = 1\n",
    "        else:\n",
    "            pass\n",
    "    return value_count"
   ]
  },
  {
   "cell_type": "code",
   "execution_count": 19,
   "metadata": {
    "scrolled": true
   },
   "outputs": [
    {
     "data": {
      "text/plain": [
       "<matplotlib.axes._subplots.AxesSubplot at 0x1a27bacad0>"
      ]
     },
     "execution_count": 19,
     "metadata": {},
     "output_type": "execute_result"
    },
    {
     "data": {
      "image/png": "[encoded data removed]",
      "text/plain": [
       "<Figure size 432x288 with 1 Axes>"
      ]
     },
     "metadata": {
      "needs_background": "light"
     },
     "output_type": "display_data"
    }
   ],
   "source": [
    "genres_count = pd.Series(counting_values(data, 'genres'))\n",
    "genres_count.sort_values(ascending = False).head(10).plot(kind = 'bar',color='blue')\n"
   ]
  },
  {
   "cell_type": "markdown",
   "metadata": {},
   "source": [
    "From the above graph, we have found out the most common movie types that are being produced and Drama is the most favorite among all types of movie."
   ]
  },
  {
   "cell_type": "markdown",
   "metadata": {},
   "source": [
    "### Movies Around the World:"
   ]
  },
  {
   "cell_type": "code",
   "execution_count": 20,
   "metadata": {},
   "outputs": [],
   "source": [
    "countries = pd.Series(counting_values(data, 'production_countries'))\n",
    "ln_countries = pd.Series(np.log(countries.values), index = countries.index)"
   ]
  },
  {
   "cell_type": "code",
   "execution_count": 23,
   "metadata": {
    "scrolled": true
   },
   "outputs": [
    {
     "data": {
      "application/vnd.plotly.v1+json": {
       "config": {
        "linkText": "Export to plot.ly",
        "plotlyServerURL": "https://plot.ly",
        "showLink": false
       },
       "data": [
        {
         "colorbar": {
          "title": {
           "text": "log of Sum of Movies"
          }
         },
         "colorscale": [
          [
           0,
           "rgb(0,0,0)"
          ],
          [
           0.25,
           "rgb(230,0,0)"
          ],
          [
           0.5,
           "rgb(230,210,0)"
          ],
          [
           0.75,
           "rgb(255,255,255)"
          ],
          [
           1,
           "rgb(160,200,255)"
          ]
         ],
         "locationmode": "country names",
         "locations": [
          "United States of America",
          "Germany",
          "United Kingdom",
          "France",
          "Italy",
          "Spain",
          "China",
          "Australia",
          "South Africa",
          "Canada",
          "Switzerland",
          "Belgium",
          "Japan",
          "Iran",
          "Netherlands",
          "Hong Kong",
          "Tunisia",
          "Ireland",
          "Dominican Republic",
          "Croatia",
          "Russia",
          "Macedonia",
          "Austria",
          "Taiwan",
          "New Zealand",
          "Mexico",
          "Poland",
          "Peru",
          "Cuba",
          "Liechtenstein",
          "Denmark",
          "Portugal",
          "Finland",
          "Sweden",
          "Argentina",
          "Iceland",
          "South Korea",
          "Serbia",
          "Hungary",
          "Czech Republic",
          "India",
          "Brazil",
          "Greece",
          "Congo",
          "Senegal",
          "Burkina Faso",
          "Romania",
          "Philippines",
          "Vietnam",
          "Trinidad and Tobago",
          "Bulgaria",
          "Chile",
          "Norway",
          "Kazakhstan",
          "Algeria",
          "Luxembourg",
          "Georgia",
          "Ukraine",
          "Botswana",
          "Aruba",
          "Israel",
          "Turkey",
          "Ecuador",
          "Lebanon",
          "Morocco",
          "Bosnia and Herzegovina",
          "Bahamas",
          "Malaysia",
          "Bhutan",
          "Jamaica",
          "Pakistan",
          "Nepal",
          "Cote D'Ivoire",
          "Thailand",
          "Namibia",
          "Cameroon",
          "Colombia",
          "Czechoslovakia",
          "Uruguay",
          "Slovenia",
          "Libyan Arab Jamahiriya",
          "Puerto Rico",
          "Soviet Union",
          "East Germany",
          "Singapore",
          "Afghanistan",
          "Malta",
          "Panama",
          "Egypt",
          "Zimbabwe",
          "Tajikistan",
          "Uzbekistan",
          "Costa Rica",
          "Kuwait",
          "Martinique",
          "Ghana",
          "Armenia",
          "Indonesia",
          "Mongolia",
          "Bolivia",
          "Monaco",
          "Iraq",
          "Slovakia",
          "Serbia and Montenegro",
          "Venezuela",
          "Lithuania",
          "Rwanda",
          "Palestinian Territory",
          "Chad",
          "Paraguay",
          "Qatar",
          "Estonia",
          "Macao",
          "Mali",
          "United States Minor Outlying Islands",
          "Latvia",
          "United Arab Emirates",
          "Azerbaijan",
          "Cayman Islands",
          "Nicaragua",
          "Liberia",
          "Yugoslavia",
          "Montenegro",
          "Angola",
          "Belarus",
          "Cambodia",
          "Mauritania",
          "Cyprus",
          "Bangladesh",
          "Syrian Arab Republic",
          "Kyrgyz Republic",
          "Albania",
          "Tanzania",
          "North Korea",
          "Kenya",
          "Jordan",
          "Uganda",
          "Saudi Arabia",
          "Somalia",
          "Guatemala",
          "Madagascar",
          "Ethiopia",
          "Sri Lanka",
          "Papua New Guinea",
          "Nigeria",
          "Lao People's Democratic Republic",
          "French Polynesia",
          "Netherlands Antilles",
          "Myanmar",
          "Bermuda",
          "El Salvador",
          "French Southern Territories",
          "Samoa",
          "Moldova",
          "Barbados",
          "Antarctica",
          "Gibraltar",
          "Brunei Darussalam",
          "Honduras",
          "Guinea"
         ],
         "text": [
          21153,
          2254,
          4094,
          3940,
          2169,
          964,
          372,
          570,
          125,
          1765,
          254,
          447,
          1648,
          106,
          375,
          596,
          18,
          225,
          8,
          78,
          912,
          15,
          209,
          129,
          123,
          329,
          319,
          30,
          25,
          8,
          386,
          128,
          383,
          588,
          254,
          68,
          495,
          106,
          175,
          209,
          828,
          291,
          169,
          5,
          14,
          10,
          142,
          83,
          10,
          2,
          56,
          68,
          203,
          23,
          13,
          90,
          30,
          55,
          3,
          6,
          147,
          165,
          10,
          15,
          33,
          35,
          5,
          13,
          4,
          4,
          18,
          6,
          2,
          116,
          3,
          5,
          34,
          4,
          18,
          32,
          3,
          13,
          20,
          6,
          41,
          8,
          9,
          7,
          25,
          3,
          3,
          6,
          6,
          1,
          1,
          4,
          8,
          33,
          3,
          10,
          4,
          8,
          30,
          3,
          19,
          36,
          4,
          11,
          4,
          3,
          14,
          59,
          2,
          2,
          1,
          29,
          27,
          2,
          1,
          3,
          3,
          4,
          7,
          3,
          9,
          9,
          5,
          7,
          2,
          5,
          6,
          5,
          2,
          3,
          3,
          9,
          2,
          2,
          1,
          6,
          1,
          5,
          3,
          2,
          6,
          3,
          1,
          1,
          1,
          1,
          3,
          1,
          1,
          1,
          1,
          1,
          1,
          1,
          1,
          1
         ],
         "type": "choropleth",
         "z": [
          9.95953701838715,
          7.720461694599722,
          8.317277766221235,
          8.27893600229198,
          7.682021510826875,
          6.871091294610546,
          5.918893854273146,
          6.345636360828596,
          4.8283137373023015,
          7.475905969367397,
          5.537334267018537,
          6.102558594613569,
          7.4073177104694174,
          4.663439094112067,
          5.926926025970411,
          6.39024066706535,
          2.8903717578961645,
          5.41610040220442,
          2.0794415416798357,
          4.356708826689592,
          6.815639990074331,
          2.70805020110221,
          5.342334251964811,
          4.859812404361672,
          4.812184355372417,
          5.796057750765372,
          5.765191102784844,
          3.4011973816621555,
          3.2188758248682006,
          2.0794415416798357,
          5.955837369464831,
          4.852030263919617,
          5.948034989180646,
          6.376726947898627,
          5.537334267018537,
          4.219507705176107,
          6.20455776256869,
          4.663439094112067,
          5.1647859739235145,
          5.342334251964811,
          6.71901315438526,
          5.673323267171493,
          5.1298987149230735,
          1.6094379124341003,
          2.6390573296152584,
          2.302585092994046,
          4.955827057601261,
          4.418840607796598,
          2.302585092994046,
          0.6931471805599453,
          4.02535169073515,
          4.219507705176107,
          5.313205979041787,
          3.1354942159291497,
          2.5649493574615367,
          4.499809670330265,
          3.4011973816621555,
          4.007333185232471,
          1.0986122886681098,
          1.791759469228055,
          4.990432586778736,
          5.10594547390058,
          2.302585092994046,
          2.70805020110221,
          3.4965075614664802,
          3.5553480614894135,
          1.6094379124341003,
          2.5649493574615367,
          1.3862943611198906,
          1.3862943611198906,
          2.8903717578961645,
          1.791759469228055,
          0.6931471805599453,
          4.7535901911063645,
          1.0986122886681098,
          1.6094379124341003,
          3.5263605246161616,
          1.3862943611198906,
          2.8903717578961645,
          3.4657359027997265,
          1.0986122886681098,
          2.5649493574615367,
          2.995732273553991,
          1.791759469228055,
          3.713572066704308,
          2.0794415416798357,
          2.1972245773362196,
          1.9459101490553132,
          3.2188758248682006,
          1.0986122886681098,
          1.0986122886681098,
          1.791759469228055,
          1.791759469228055,
          0,
          0,
          1.3862943611198906,
          2.0794415416798357,
          3.4965075614664802,
          1.0986122886681098,
          2.302585092994046,
          1.3862943611198906,
          2.0794415416798357,
          3.4011973816621555,
          1.0986122886681098,
          2.9444389791664403,
          3.58351893845611,
          1.3862943611198906,
          2.3978952727983707,
          1.3862943611198906,
          1.0986122886681098,
          2.6390573296152584,
          4.07753744390572,
          0.6931471805599453,
          0.6931471805599453,
          0,
          3.367295829986474,
          3.295836866004329,
          0.6931471805599453,
          0,
          1.0986122886681098,
          1.0986122886681098,
          1.3862943611198906,
          1.9459101490553132,
          1.0986122886681098,
          2.1972245773362196,
          2.1972245773362196,
          1.6094379124341003,
          1.9459101490553132,
          0.6931471805599453,
          1.6094379124341003,
          1.791759469228055,
          1.6094379124341003,
          0.6931471805599453,
          1.0986122886681098,
          1.0986122886681098,
          2.1972245773362196,
          0.6931471805599453,
          0.6931471805599453,
          0,
          1.791759469228055,
          0,
          1.6094379124341003,
          1.0986122886681098,
          0.6931471805599453,
          1.791759469228055,
          1.0986122886681098,
          0,
          0,
          0,
          0,
          1.0986122886681098,
          0,
          0,
          0,
          0,
          0,
          0,
          0,
          0,
          0
         ]
        }
       ],
       "layout": {
        "geo": {
         "projection": {
          "type": "natural earth"
         },
         "showframe": false
        },
        "template": {
         "data": {
          "bar": [
           {
            "error_x": {
             "color": "#2a3f5f"
            },
            "error_y": {
             "color": "#2a3f5f"
            },
            "marker": {
             "line": {
              "color": "#E5ECF6",
              "width": 0.5
             }
            },
            "type": "bar"
           }
          ],
          "barpolar": [
           {
            "marker": {
             "line": {
              "color": "#E5ECF6",
              "width": 0.5
             }
            },
            "type": "barpolar"
           }
          ],
          "carpet": [
           {
            "aaxis": {
             "endlinecolor": "#2a3f5f",
             "gridcolor": "white",
             "linecolor": "white",
             "minorgridcolor": "white",
             "startlinecolor": "#2a3f5f"
            },
            "baxis": {
             "endlinecolor": "#2a3f5f",
             "gridcolor": "white",
             "linecolor": "white",
             "minorgridcolor": "white",
             "startlinecolor": "#2a3f5f"
            },
            "type": "carpet"
           }
          ],
          "choropleth": [
           {
            "colorbar": {
             "outlinewidth": 0,
             "ticks": ""
            },
            "type": "choropleth"
           }
          ],
          "contour": [
           {
            "colorbar": {
             "outlinewidth": 0,
             "ticks": ""
            },
            "colorscale": [
             [
              0,
              "#0d0887"
             ],
             [
              0.1111111111111111,
              "#46039f"
             ],
             [
              0.2222222222222222,
              "#7201a8"
             ],
             [
              0.3333333333333333,
              "#9c179e"
             ],
             [
              0.4444444444444444,
              "#bd3786"
             ],
             [
              0.5555555555555556,
              "#d8576b"
             ],
             [
              0.6666666666666666,
              "#ed7953"
             ],
             [
              0.7777777777777778,
              "#fb9f3a"
             ],
             [
              0.8888888888888888,
              "#fdca26"
             ],
             [
              1,
              "#f0f921"
             ]
            ],
            "type": "contour"
           }
          ],
          "contourcarpet": [
           {
            "colorbar": {
             "outlinewidth": 0,
             "ticks": ""
            },
            "type": "contourcarpet"
           }
          ],
          "heatmap": [
           {
            "colorbar": {
             "outlinewidth": 0,
             "ticks": ""
            },
            "colorscale": [
             [
              0,
              "#0d0887"
             ],
             [
              0.1111111111111111,
              "#46039f"
             ],
             [
              0.2222222222222222,
              "#7201a8"
             ],
             [
              0.3333333333333333,
              "#9c179e"
             ],
             [
              0.4444444444444444,
              "#bd3786"
             ],
             [
              0.5555555555555556,
              "#d8576b"
             ],
             [
              0.6666666666666666,
              "#ed7953"
             ],
             [
              0.7777777777777778,
              "#fb9f3a"
             ],
             [
              0.8888888888888888,
              "#fdca26"
             ],
             [
              1,
              "#f0f921"
             ]
            ],
            "type": "heatmap"
           }
          ],
          "heatmapgl": [
           {
            "colorbar": {
             "outlinewidth": 0,
             "ticks": ""
            },
            "colorscale": [
             [
              0,
              "#0d0887"
             ],
             [
              0.1111111111111111,
              "#46039f"
             ],
             [
              0.2222222222222222,
              "#7201a8"
             ],
             [
              0.3333333333333333,
              "#9c179e"
             ],
             [
              0.4444444444444444,
              "#bd3786"
             ],
             [
              0.5555555555555556,
              "#d8576b"
             ],
             [
              0.6666666666666666,
              "#ed7953"
             ],
             [
              0.7777777777777778,
              "#fb9f3a"
             ],
             [
              0.8888888888888888,
              "#fdca26"
             ],
             [
              1,
              "#f0f921"
             ]
            ],
            "type": "heatmapgl"
           }
          ],
          "histogram": [
           {
            "marker": {
             "colorbar": {
              "outlinewidth": 0,
              "ticks": ""
             }
            },
            "type": "histogram"
           }
          ],
          "histogram2d": [
           {
            "colorbar": {
             "outlinewidth": 0,
             "ticks": ""
            },
            "colorscale": [
             [
              0,
              "#0d0887"
             ],
             [
              0.1111111111111111,
              "#46039f"
             ],
             [
              0.2222222222222222,
              "#7201a8"
             ],
             [
              0.3333333333333333,
              "#9c179e"
             ],
             [
              0.4444444444444444,
              "#bd3786"
             ],
             [
              0.5555555555555556,
              "#d8576b"
             ],
             [
              0.6666666666666666,
              "#ed7953"
             ],
             [
              0.7777777777777778,
              "#fb9f3a"
             ],
             [
              0.8888888888888888,
              "#fdca26"
             ],
             [
              1,
              "#f0f921"
             ]
            ],
            "type": "histogram2d"
           }
          ],
          "histogram2dcontour": [
           {
            "colorbar": {
             "outlinewidth": 0,
             "ticks": ""
            },
            "colorscale": [
             [
              0,
              "#0d0887"
             ],
             [
              0.1111111111111111,
              "#46039f"
             ],
             [
              0.2222222222222222,
              "#7201a8"
             ],
             [
              0.3333333333333333,
              "#9c179e"
             ],
             [
              0.4444444444444444,
              "#bd3786"
             ],
             [
              0.5555555555555556,
              "#d8576b"
             ],
             [
              0.6666666666666666,
              "#ed7953"
             ],
             [
              0.7777777777777778,
              "#fb9f3a"
             ],
             [
              0.8888888888888888,
              "#fdca26"
             ],
             [
              1,
              "#f0f921"
             ]
            ],
            "type": "histogram2dcontour"
           }
          ],
          "mesh3d": [
           {
            "colorbar": {
             "outlinewidth": 0,
             "ticks": ""
            },
            "type": "mesh3d"
           }
          ],
          "parcoords": [
           {
            "line": {
             "colorbar": {
              "outlinewidth": 0,
              "ticks": ""
             }
            },
            "type": "parcoords"
           }
          ],
          "pie": [
           {
            "automargin": true,
            "type": "pie"
           }
          ],
          "scatter": [
           {
            "marker": {
             "colorbar": {
              "outlinewidth": 0,
              "ticks": ""
             }
            },
            "type": "scatter"
           }
          ],
          "scatter3d": [
           {
            "line": {
             "colorbar": {
              "outlinewidth": 0,
              "ticks": ""
             }
            },
            "marker": {
             "colorbar": {
              "outlinewidth": 0,
              "ticks": ""
             }
            },
            "type": "scatter3d"
           }
          ],
          "scattercarpet": [
           {
            "marker": {
             "colorbar": {
              "outlinewidth": 0,
              "ticks": ""
             }
            },
            "type": "scattercarpet"
           }
          ],
          "scattergeo": [
           {
            "marker": {
             "colorbar": {
              "outlinewidth": 0,
              "ticks": ""
             }
            },
            "type": "scattergeo"
           }
          ],
          "scattergl": [
           {
            "marker": {
             "colorbar": {
              "outlinewidth": 0,
              "ticks": ""
             }
            },
            "type": "scattergl"
           }
          ],
          "scattermapbox": [
           {
            "marker": {
             "colorbar": {
              "outlinewidth": 0,
              "ticks": ""
             }
            },
            "type": "scattermapbox"
           }
          ],
          "scatterpolar": [
           {
            "marker": {
             "colorbar": {
              "outlinewidth": 0,
              "ticks": ""
             }
            },
            "type": "scatterpolar"
           }
          ],
          "scatterpolargl": [
           {
            "marker": {
             "colorbar": {
              "outlinewidth": 0,
              "ticks": ""
             }
            },
            "type": "scatterpolargl"
           }
          ],
          "scatterternary": [
           {
            "marker": {
             "colorbar": {
              "outlinewidth": 0,
              "ticks": ""
             }
            },
            "type": "scatterternary"
           }
          ],
          "surface": [
           {
            "colorbar": {
             "outlinewidth": 0,
             "ticks": ""
            },
            "colorscale": [
             [
              0,
              "#0d0887"
             ],
             [
              0.1111111111111111,
              "#46039f"
             ],
             [
              0.2222222222222222,
              "#7201a8"
             ],
             [
              0.3333333333333333,
              "#9c179e"
             ],
             [
              0.4444444444444444,
              "#bd3786"
             ],
             [
              0.5555555555555556,
              "#d8576b"
             ],
             [
              0.6666666666666666,
              "#ed7953"
             ],
             [
              0.7777777777777778,
              "#fb9f3a"
             ],
             [
              0.8888888888888888,
              "#fdca26"
             ],
             [
              1,
              "#f0f921"
             ]
            ],
            "type": "surface"
           }
          ],
          "table": [
           {
            "cells": {
             "fill": {
              "color": "#EBF0F8"
             },
             "line": {
              "color": "white"
             }
            },
            "header": {
             "fill": {
              "color": "#C8D4E3"
             },
             "line": {
              "color": "white"
             }
            },
            "type": "table"
           }
          ]
         },
         "layout": {
          "annotationdefaults": {
           "arrowcolor": "#2a3f5f",
           "arrowhead": 0,
           "arrowwidth": 1
          },
          "coloraxis": {
           "colorbar": {
            "outlinewidth": 0,
            "ticks": ""
           }
          },
          "colorscale": {
           "diverging": [
            [
             0,
             "#8e0152"
            ],
            [
             0.1,
             "#c51b7d"
            ],
            [
             0.2,
             "#de77ae"
            ],
            [
             0.3,
             "#f1b6da"
            ],
            [
             0.4,
             "#fde0ef"
            ],
            [
             0.5,
             "#f7f7f7"
            ],
            [
             0.6,
             "#e6f5d0"
            ],
            [
             0.7,
             "#b8e186"
            ],
            [
             0.8,
             "#7fbc41"
            ],
            [
             0.9,
             "#4d9221"
            ],
            [
             1,
             "#276419"
            ]
           ],
           "sequential": [
            [
             0,
             "#0d0887"
            ],
            [
             0.1111111111111111,
             "#46039f"
            ],
            [
             0.2222222222222222,
             "#7201a8"
            ],
            [
             0.3333333333333333,
             "#9c179e"
            ],
            [
             0.4444444444444444,
             "#bd3786"
            ],
            [
             0.5555555555555556,
             "#d8576b"
            ],
            [
             0.6666666666666666,
             "#ed7953"
            ],
            [
             0.7777777777777778,
             "#fb9f3a"
            ],
            [
             0.8888888888888888,
             "#fdca26"
            ],
            [
             1,
             "#f0f921"
            ]
           ],
           "sequentialminus": [
            [
             0,
             "#0d0887"
            ],
            [
             0.1111111111111111,
             "#46039f"
            ],
            [
             0.2222222222222222,
             "#7201a8"
            ],
            [
             0.3333333333333333,
             "#9c179e"
            ],
            [
             0.4444444444444444,
             "#bd3786"
            ],
            [
             0.5555555555555556,
             "#d8576b"
            ],
            [
             0.6666666666666666,
             "#ed7953"
            ],
            [
             0.7777777777777778,
             "#fb9f3a"
            ],
            [
             0.8888888888888888,
             "#fdca26"
            ],
            [
             1,
             "#f0f921"
            ]
           ]
          },
          "colorway": [
           "#636efa",
           "#EF553B",
           "#00cc96",
           "#ab63fa",
           "#FFA15A",
           "#19d3f3",
           "#FF6692",
           "#B6E880",
           "#FF97FF",
           "#FECB52"
          ],
          "font": {
           "color": "#2a3f5f"
          },
          "geo": {
           "bgcolor": "white",
           "lakecolor": "white",
           "landcolor": "#E5ECF6",
           "showlakes": true,
           "showland": true,
           "subunitcolor": "white"
          },
          "hoverlabel": {
           "align": "left"
          },
          "hovermode": "closest",
          "mapbox": {
           "style": "light"
          },
          "paper_bgcolor": "white",
          "plot_bgcolor": "#E5ECF6",
          "polar": {
           "angularaxis": {
            "gridcolor": "white",
            "linecolor": "white",
            "ticks": ""
           },
           "bgcolor": "#E5ECF6",
           "radialaxis": {
            "gridcolor": "white",
            "linecolor": "white",
            "ticks": ""
           }
          },
          "scene": {
           "xaxis": {
            "backgroundcolor": "#E5ECF6",
            "gridcolor": "white",
            "gridwidth": 2,
            "linecolor": "white",
            "showbackground": true,
            "ticks": "",
            "zerolinecolor": "white"
           },
           "yaxis": {
            "backgroundcolor": "#E5ECF6",
            "gridcolor": "white",
            "gridwidth": 2,
            "linecolor": "white",
            "showbackground": true,
            "ticks": "",
            "zerolinecolor": "white"
           },
           "zaxis": {
            "backgroundcolor": "#E5ECF6",
            "gridcolor": "white",
            "gridwidth": 2,
            "linecolor": "white",
            "showbackground": true,
            "ticks": "",
            "zerolinecolor": "white"
           }
          },
          "shapedefaults": {
           "line": {
            "color": "#2a3f5f"
           }
          },
          "ternary": {
           "aaxis": {
            "gridcolor": "white",
            "linecolor": "white",
            "ticks": ""
           },
           "baxis": {
            "gridcolor": "white",
            "linecolor": "white",
            "ticks": ""
           },
           "bgcolor": "#E5ECF6",
           "caxis": {
            "gridcolor": "white",
            "linecolor": "white",
            "ticks": ""
           }
          },
          "title": {
           "x": 0.05
          },
          "xaxis": {
           "automargin": true,
           "gridcolor": "white",
           "linecolor": "white",
           "ticks": "",
           "title": {
            "standoff": 15
           },
           "zerolinecolor": "white",
           "zerolinewidth": 2
          },
          "yaxis": {
           "automargin": true,
           "gridcolor": "white",
           "linecolor": "white",
           "ticks": "",
           "title": {
            "standoff": 15
           },
           "zerolinecolor": "white",
           "zerolinewidth": 2
          }
         }
        },
        "title": {
         "text": "Movies around the World"
        }
       }
      },
      "text/html": [
       "<div>\n",
       "        \n",
       "        \n",
       "            <div id=\"593a3381-3e7c-41cb-8bcb-8c373c3d6580\" class=\"plotly-graph-div\" style=\"height:525px; width:100%;\"></div>\n",
       "            <script type=\"text/javascript\">\n",
       "                require([\"plotly\"], function(Plotly) {\n",
       "                    window.PLOTLYENV=window.PLOTLYENV || {};\n",
       "                    \n",
       "                if (document.getElementById(\"593a3381-3e7c-41cb-8bcb-8c373c3d6580\")) {\n",
       "                    Plotly.newPlot(\n",
       "                        '593a3381-3e7c-41cb-8bcb-8c373c3d6580',\n",
       "                        [{\"colorbar\": {\"title\": {\"text\": \"log of Sum of Movies\"}}, \"colorscale\": [[0.0, \"rgb(0,0,0)\"], [0.25, \"rgb(230,0,0)\"], [0.5, \"rgb(230,210,0)\"], [0.75, \"rgb(255,255,255)\"], [1.0, \"rgb(160,200,255)\"]], \"locationmode\": \"country names\", \"locations\": [\"United States of America\", \"Germany\", \"United Kingdom\", \"France\", \"Italy\", \"Spain\", \"China\", \"Australia\", \"South Africa\", \"Canada\", \"Switzerland\", \"Belgium\", \"Japan\", \"Iran\", \"Netherlands\", \"Hong Kong\", \"Tunisia\", \"Ireland\", \"Dominican Republic\", \"Croatia\", \"Russia\", \"Macedonia\", \"Austria\", \"Taiwan\", \"New Zealand\", \"Mexico\", \"Poland\", \"Peru\", \"Cuba\", \"Liechtenstein\", \"Denmark\", \"Portugal\", \"Finland\", \"Sweden\", \"Argentina\", \"Iceland\", \"South Korea\", \"Serbia\", \"Hungary\", \"Czech Republic\", \"India\", \"Brazil\", \"Greece\", \"Congo\", \"Senegal\", \"Burkina Faso\", \"Romania\", \"Philippines\", \"Vietnam\", \"Trinidad and Tobago\", \"Bulgaria\", \"Chile\", \"Norway\", \"Kazakhstan\", \"Algeria\", \"Luxembourg\", \"Georgia\", \"Ukraine\", \"Botswana\", \"Aruba\", \"Israel\", \"Turkey\", \"Ecuador\", \"Lebanon\", \"Morocco\", \"Bosnia and Herzegovina\", \"Bahamas\", \"Malaysia\", \"Bhutan\", \"Jamaica\", \"Pakistan\", \"Nepal\", \"Cote D'Ivoire\", \"Thailand\", \"Namibia\", \"Cameroon\", \"Colombia\", \"Czechoslovakia\", \"Uruguay\", \"Slovenia\", \"Libyan Arab Jamahiriya\", \"Puerto Rico\", \"Soviet Union\", \"East Germany\", \"Singapore\", \"Afghanistan\", \"Malta\", \"Panama\", \"Egypt\", \"Zimbabwe\", \"Tajikistan\", \"Uzbekistan\", \"Costa Rica\", \"Kuwait\", \"Martinique\", \"Ghana\", \"Armenia\", \"Indonesia\", \"Mongolia\", \"Bolivia\", \"Monaco\", \"Iraq\", \"Slovakia\", \"Serbia and Montenegro\", \"Venezuela\", \"Lithuania\", \"Rwanda\", \"Palestinian Territory\", \"Chad\", \"Paraguay\", \"Qatar\", \"Estonia\", \"Macao\", \"Mali\", \"United States Minor Outlying Islands\", \"Latvia\", \"United Arab Emirates\", \"Azerbaijan\", \"Cayman Islands\", \"Nicaragua\", \"Liberia\", \"Yugoslavia\", \"Montenegro\", \"Angola\", \"Belarus\", \"Cambodia\", \"Mauritania\", \"Cyprus\", \"Bangladesh\", \"Syrian Arab Republic\", \"Kyrgyz Republic\", \"Albania\", \"Tanzania\", \"North Korea\", \"Kenya\", \"Jordan\", \"Uganda\", \"Saudi Arabia\", \"Somalia\", \"Guatemala\", \"Madagascar\", \"Ethiopia\", \"Sri Lanka\", \"Papua New Guinea\", \"Nigeria\", \"Lao People's Democratic Republic\", \"French Polynesia\", \"Netherlands Antilles\", \"Myanmar\", \"Bermuda\", \"El Salvador\", \"French Southern Territories\", \"Samoa\", \"Moldova\", \"Barbados\", \"Antarctica\", \"Gibraltar\", \"Brunei Darussalam\", \"Honduras\", \"Guinea\"], \"text\": [21153.0, 2254.0, 4094.0, 3940.0, 2169.0, 964.0, 372.0, 570.0, 125.0, 1765.0, 254.0, 447.0, 1648.0, 106.0, 375.0, 596.0, 18.0, 225.0, 8.0, 78.0, 912.0, 15.0, 209.0, 129.0, 123.0, 329.0, 319.0, 30.0, 25.0, 8.0, 386.0, 128.0, 383.0, 588.0, 254.0, 68.0, 495.0, 106.0, 175.0, 209.0, 828.0, 291.0, 169.0, 5.0, 14.0, 10.0, 142.0, 83.0, 10.0, 2.0, 56.0, 68.0, 203.0, 23.0, 13.0, 90.0, 30.0, 55.0, 3.0, 6.0, 147.0, 165.0, 10.0, 15.0, 33.0, 35.0, 5.0, 13.0, 4.0, 4.0, 18.0, 6.0, 2.0, 116.0, 3.0, 5.0, 34.0, 4.0, 18.0, 32.0, 3.0, 13.0, 20.0, 6.0, 41.0, 8.0, 9.0, 7.0, 25.0, 3.0, 3.0, 6.0, 6.0, 1.0, 1.0, 4.0, 8.0, 33.0, 3.0, 10.0, 4.0, 8.0, 30.0, 3.0, 19.0, 36.0, 4.0, 11.0, 4.0, 3.0, 14.0, 59.0, 2.0, 2.0, 1.0, 29.0, 27.0, 2.0, 1.0, 3.0, 3.0, 4.0, 7.0, 3.0, 9.0, 9.0, 5.0, 7.0, 2.0, 5.0, 6.0, 5.0, 2.0, 3.0, 3.0, 9.0, 2.0, 2.0, 1.0, 6.0, 1.0, 5.0, 3.0, 2.0, 6.0, 3.0, 1.0, 1.0, 1.0, 1.0, 3.0, 1.0, 1.0, 1.0, 1.0, 1.0, 1.0, 1.0, 1.0, 1.0], \"type\": \"choropleth\", \"z\": [9.95953701838715, 7.720461694599722, 8.317277766221235, 8.27893600229198, 7.682021510826875, 6.871091294610546, 5.918893854273146, 6.345636360828596, 4.8283137373023015, 7.475905969367397, 5.537334267018537, 6.102558594613569, 7.4073177104694174, 4.663439094112067, 5.926926025970411, 6.39024066706535, 2.8903717578961645, 5.41610040220442, 2.0794415416798357, 4.356708826689592, 6.815639990074331, 2.70805020110221, 5.342334251964811, 4.859812404361672, 4.812184355372417, 5.796057750765372, 5.765191102784844, 3.4011973816621555, 3.2188758248682006, 2.0794415416798357, 5.955837369464831, 4.852030263919617, 5.948034989180646, 6.376726947898627, 5.537334267018537, 4.219507705176107, 6.20455776256869, 4.663439094112067, 5.1647859739235145, 5.342334251964811, 6.71901315438526, 5.673323267171493, 5.1298987149230735, 1.6094379124341003, 2.6390573296152584, 2.302585092994046, 4.955827057601261, 4.418840607796598, 2.302585092994046, 0.6931471805599453, 4.02535169073515, 4.219507705176107, 5.313205979041787, 3.1354942159291497, 2.5649493574615367, 4.499809670330265, 3.4011973816621555, 4.007333185232471, 1.0986122886681098, 1.791759469228055, 4.990432586778736, 5.10594547390058, 2.302585092994046, 2.70805020110221, 3.4965075614664802, 3.5553480614894135, 1.6094379124341003, 2.5649493574615367, 1.3862943611198906, 1.3862943611198906, 2.8903717578961645, 1.791759469228055, 0.6931471805599453, 4.7535901911063645, 1.0986122886681098, 1.6094379124341003, 3.5263605246161616, 1.3862943611198906, 2.8903717578961645, 3.4657359027997265, 1.0986122886681098, 2.5649493574615367, 2.995732273553991, 1.791759469228055, 3.713572066704308, 2.0794415416798357, 2.1972245773362196, 1.9459101490553132, 3.2188758248682006, 1.0986122886681098, 1.0986122886681098, 1.791759469228055, 1.791759469228055, 0.0, 0.0, 1.3862943611198906, 2.0794415416798357, 3.4965075614664802, 1.0986122886681098, 2.302585092994046, 1.3862943611198906, 2.0794415416798357, 3.4011973816621555, 1.0986122886681098, 2.9444389791664403, 3.58351893845611, 1.3862943611198906, 2.3978952727983707, 1.3862943611198906, 1.0986122886681098, 2.6390573296152584, 4.07753744390572, 0.6931471805599453, 0.6931471805599453, 0.0, 3.367295829986474, 3.295836866004329, 0.6931471805599453, 0.0, 1.0986122886681098, 1.0986122886681098, 1.3862943611198906, 1.9459101490553132, 1.0986122886681098, 2.1972245773362196, 2.1972245773362196, 1.6094379124341003, 1.9459101490553132, 0.6931471805599453, 1.6094379124341003, 1.791759469228055, 1.6094379124341003, 0.6931471805599453, 1.0986122886681098, 1.0986122886681098, 2.1972245773362196, 0.6931471805599453, 0.6931471805599453, 0.0, 1.791759469228055, 0.0, 1.6094379124341003, 1.0986122886681098, 0.6931471805599453, 1.791759469228055, 1.0986122886681098, 0.0, 0.0, 0.0, 0.0, 1.0986122886681098, 0.0, 0.0, 0.0, 0.0, 0.0, 0.0, 0.0, 0.0, 0.0]}],\n",
       "                        {\"geo\": {\"projection\": {\"type\": \"natural earth\"}, \"showframe\": false}, \"template\": {\"data\": {\"bar\": [{\"error_x\": {\"color\": \"#2a3f5f\"}, \"error_y\": {\"color\": \"#2a3f5f\"}, \"marker\": {\"line\": {\"color\": \"#E5ECF6\", \"width\": 0.5}}, \"type\": \"bar\"}], \"barpolar\": [{\"marker\": {\"line\": {\"color\": \"#E5ECF6\", \"width\": 0.5}}, \"type\": \"barpolar\"}], \"carpet\": [{\"aaxis\": {\"endlinecolor\": \"#2a3f5f\", \"gridcolor\": \"white\", \"linecolor\": \"white\", \"minorgridcolor\": \"white\", \"startlinecolor\": \"#2a3f5f\"}, \"baxis\": {\"endlinecolor\": \"#2a3f5f\", \"gridcolor\": \"white\", \"linecolor\": \"white\", \"minorgridcolor\": \"white\", \"startlinecolor\": \"#2a3f5f\"}, \"type\": \"carpet\"}], \"choropleth\": [{\"colorbar\": {\"outlinewidth\": 0, \"ticks\": \"\"}, \"type\": \"choropleth\"}], \"contour\": [{\"colorbar\": {\"outlinewidth\": 0, \"ticks\": \"\"}, \"colorscale\": [[0.0, \"#0d0887\"], [0.1111111111111111, \"#46039f\"], [0.2222222222222222, \"#7201a8\"], [0.3333333333333333, \"#9c179e\"], [0.4444444444444444, \"#bd3786\"], [0.5555555555555556, \"#d8576b\"], [0.6666666666666666, \"#ed7953\"], [0.7777777777777778, \"#fb9f3a\"], [0.8888888888888888, \"#fdca26\"], [1.0, \"#f0f921\"]], \"type\": \"contour\"}], \"contourcarpet\": [{\"colorbar\": {\"outlinewidth\": 0, \"ticks\": \"\"}, \"type\": \"contourcarpet\"}], \"heatmap\": [{\"colorbar\": {\"outlinewidth\": 0, \"ticks\": \"\"}, \"colorscale\": [[0.0, \"#0d0887\"], [0.1111111111111111, \"#46039f\"], [0.2222222222222222, \"#7201a8\"], [0.3333333333333333, \"#9c179e\"], [0.4444444444444444, \"#bd3786\"], [0.5555555555555556, \"#d8576b\"], [0.6666666666666666, \"#ed7953\"], [0.7777777777777778, \"#fb9f3a\"], [0.8888888888888888, \"#fdca26\"], [1.0, \"#f0f921\"]], \"type\": \"heatmap\"}], \"heatmapgl\": [{\"colorbar\": {\"outlinewidth\": 0, \"ticks\": \"\"}, \"colorscale\": [[0.0, \"#0d0887\"], [0.1111111111111111, \"#46039f\"], [0.2222222222222222, \"#7201a8\"], [0.3333333333333333, \"#9c179e\"], [0.4444444444444444, \"#bd3786\"], [0.5555555555555556, \"#d8576b\"], [0.6666666666666666, \"#ed7953\"], [0.7777777777777778, \"#fb9f3a\"], [0.8888888888888888, \"#fdca26\"], [1.0, \"#f0f921\"]], \"type\": \"heatmapgl\"}], \"histogram\": [{\"marker\": {\"colorbar\": {\"outlinewidth\": 0, \"ticks\": \"\"}}, \"type\": \"histogram\"}], \"histogram2d\": [{\"colorbar\": {\"outlinewidth\": 0, \"ticks\": \"\"}, \"colorscale\": [[0.0, \"#0d0887\"], [0.1111111111111111, \"#46039f\"], [0.2222222222222222, \"#7201a8\"], [0.3333333333333333, \"#9c179e\"], [0.4444444444444444, \"#bd3786\"], [0.5555555555555556, \"#d8576b\"], [0.6666666666666666, \"#ed7953\"], [0.7777777777777778, \"#fb9f3a\"], [0.8888888888888888, \"#fdca26\"], [1.0, \"#f0f921\"]], \"type\": \"histogram2d\"}], \"histogram2dcontour\": [{\"colorbar\": {\"outlinewidth\": 0, \"ticks\": \"\"}, \"colorscale\": [[0.0, \"#0d0887\"], [0.1111111111111111, \"#46039f\"], [0.2222222222222222, \"#7201a8\"], [0.3333333333333333, \"#9c179e\"], [0.4444444444444444, \"#bd3786\"], [0.5555555555555556, \"#d8576b\"], [0.6666666666666666, \"#ed7953\"], [0.7777777777777778, \"#fb9f3a\"], [0.8888888888888888, \"#fdca26\"], [1.0, \"#f0f921\"]], \"type\": \"histogram2dcontour\"}], \"mesh3d\": [{\"colorbar\": {\"outlinewidth\": 0, \"ticks\": \"\"}, \"type\": \"mesh3d\"}], \"parcoords\": [{\"line\": {\"colorbar\": {\"outlinewidth\": 0, \"ticks\": \"\"}}, \"type\": \"parcoords\"}], \"pie\": [{\"automargin\": true, \"type\": \"pie\"}], \"scatter\": [{\"marker\": {\"colorbar\": {\"outlinewidth\": 0, \"ticks\": \"\"}}, \"type\": \"scatter\"}], \"scatter3d\": [{\"line\": {\"colorbar\": {\"outlinewidth\": 0, \"ticks\": \"\"}}, \"marker\": {\"colorbar\": {\"outlinewidth\": 0, \"ticks\": \"\"}}, \"type\": \"scatter3d\"}], \"scattercarpet\": [{\"marker\": {\"colorbar\": {\"outlinewidth\": 0, \"ticks\": \"\"}}, \"type\": \"scattercarpet\"}], \"scattergeo\": [{\"marker\": {\"colorbar\": {\"outlinewidth\": 0, \"ticks\": \"\"}}, \"type\": \"scattergeo\"}], \"scattergl\": [{\"marker\": {\"colorbar\": {\"outlinewidth\": 0, \"ticks\": \"\"}}, \"type\": \"scattergl\"}], \"scattermapbox\": [{\"marker\": {\"colorbar\": {\"outlinewidth\": 0, \"ticks\": \"\"}}, \"type\": \"scattermapbox\"}], \"scatterpolar\": [{\"marker\": {\"colorbar\": {\"outlinewidth\": 0, \"ticks\": \"\"}}, \"type\": \"scatterpolar\"}], \"scatterpolargl\": [{\"marker\": {\"colorbar\": {\"outlinewidth\": 0, \"ticks\": \"\"}}, \"type\": \"scatterpolargl\"}], \"scatterternary\": [{\"marker\": {\"colorbar\": {\"outlinewidth\": 0, \"ticks\": \"\"}}, \"type\": \"scatterternary\"}], \"surface\": [{\"colorbar\": {\"outlinewidth\": 0, \"ticks\": \"\"}, \"colorscale\": [[0.0, \"#0d0887\"], [0.1111111111111111, \"#46039f\"], [0.2222222222222222, \"#7201a8\"], [0.3333333333333333, \"#9c179e\"], [0.4444444444444444, \"#bd3786\"], [0.5555555555555556, \"#d8576b\"], [0.6666666666666666, \"#ed7953\"], [0.7777777777777778, \"#fb9f3a\"], [0.8888888888888888, \"#fdca26\"], [1.0, \"#f0f921\"]], \"type\": \"surface\"}], \"table\": [{\"cells\": {\"fill\": {\"color\": \"#EBF0F8\"}, \"line\": {\"color\": \"white\"}}, \"header\": {\"fill\": {\"color\": \"#C8D4E3\"}, \"line\": {\"color\": \"white\"}}, \"type\": \"table\"}]}, \"layout\": {\"annotationdefaults\": {\"arrowcolor\": \"#2a3f5f\", \"arrowhead\": 0, \"arrowwidth\": 1}, \"coloraxis\": {\"colorbar\": {\"outlinewidth\": 0, \"ticks\": \"\"}}, \"colorscale\": {\"diverging\": [[0, \"#8e0152\"], [0.1, \"#c51b7d\"], [0.2, \"#de77ae\"], [0.3, \"#f1b6da\"], [0.4, \"#fde0ef\"], [0.5, \"#f7f7f7\"], [0.6, \"#e6f5d0\"], [0.7, \"#b8e186\"], [0.8, \"#7fbc41\"], [0.9, \"#4d9221\"], [1, \"#276419\"]], \"sequential\": [[0.0, \"#0d0887\"], [0.1111111111111111, \"#46039f\"], [0.2222222222222222, \"#7201a8\"], [0.3333333333333333, \"#9c179e\"], [0.4444444444444444, \"#bd3786\"], [0.5555555555555556, \"#d8576b\"], [0.6666666666666666, \"#ed7953\"], [0.7777777777777778, \"#fb9f3a\"], [0.8888888888888888, \"#fdca26\"], [1.0, \"#f0f921\"]], \"sequentialminus\": [[0.0, \"#0d0887\"], [0.1111111111111111, \"#46039f\"], [0.2222222222222222, \"#7201a8\"], [0.3333333333333333, \"#9c179e\"], [0.4444444444444444, \"#bd3786\"], [0.5555555555555556, \"#d8576b\"], [0.6666666666666666, \"#ed7953\"], [0.7777777777777778, \"#fb9f3a\"], [0.8888888888888888, \"#fdca26\"], [1.0, \"#f0f921\"]]}, \"colorway\": [\"#636efa\", \"#EF553B\", \"#00cc96\", \"#ab63fa\", \"#FFA15A\", \"#19d3f3\", \"#FF6692\", \"#B6E880\", \"#FF97FF\", \"#FECB52\"], \"font\": {\"color\": \"#2a3f5f\"}, \"geo\": {\"bgcolor\": \"white\", \"lakecolor\": \"white\", \"landcolor\": \"#E5ECF6\", \"showlakes\": true, \"showland\": true, \"subunitcolor\": \"white\"}, \"hoverlabel\": {\"align\": \"left\"}, \"hovermode\": \"closest\", \"mapbox\": {\"style\": \"light\"}, \"paper_bgcolor\": \"white\", \"plot_bgcolor\": \"#E5ECF6\", \"polar\": {\"angularaxis\": {\"gridcolor\": \"white\", \"linecolor\": \"white\", \"ticks\": \"\"}, \"bgcolor\": \"#E5ECF6\", \"radialaxis\": {\"gridcolor\": \"white\", \"linecolor\": \"white\", \"ticks\": \"\"}}, \"scene\": {\"xaxis\": {\"backgroundcolor\": \"#E5ECF6\", \"gridcolor\": \"white\", \"gridwidth\": 2, \"linecolor\": \"white\", \"showbackground\": true, \"ticks\": \"\", \"zerolinecolor\": \"white\"}, \"yaxis\": {\"backgroundcolor\": \"#E5ECF6\", \"gridcolor\": \"white\", \"gridwidth\": 2, \"linecolor\": \"white\", \"showbackground\": true, \"ticks\": \"\", \"zerolinecolor\": \"white\"}, \"zaxis\": {\"backgroundcolor\": \"#E5ECF6\", \"gridcolor\": \"white\", \"gridwidth\": 2, \"linecolor\": \"white\", \"showbackground\": true, \"ticks\": \"\", \"zerolinecolor\": \"white\"}}, \"shapedefaults\": {\"line\": {\"color\": \"#2a3f5f\"}}, \"ternary\": {\"aaxis\": {\"gridcolor\": \"white\", \"linecolor\": \"white\", \"ticks\": \"\"}, \"baxis\": {\"gridcolor\": \"white\", \"linecolor\": \"white\", \"ticks\": \"\"}, \"bgcolor\": \"#E5ECF6\", \"caxis\": {\"gridcolor\": \"white\", \"linecolor\": \"white\", \"ticks\": \"\"}}, \"title\": {\"x\": 0.05}, \"xaxis\": {\"automargin\": true, \"gridcolor\": \"white\", \"linecolor\": \"white\", \"ticks\": \"\", \"title\": {\"standoff\": 15}, \"zerolinecolor\": \"white\", \"zerolinewidth\": 2}, \"yaxis\": {\"automargin\": true, \"gridcolor\": \"white\", \"linecolor\": \"white\", \"ticks\": \"\", \"title\": {\"standoff\": 15}, \"zerolinecolor\": \"white\", \"zerolinewidth\": 2}}}, \"title\": {\"text\": \"Movies around the World\"}},\n",
       "                        {\"responsive\": true}\n",
       "                    ).then(function(){\n",
       "                            \n",
       "var gd = document.getElementById('593a3381-3e7c-41cb-8bcb-8c373c3d6580');\n",
       "var x = new MutationObserver(function (mutations, observer) {{\n",
       "        var display = window.getComputedStyle(gd).display;\n",
       "        if (!display || display === 'none') {{\n",
       "            console.log([gd, 'removed!']);\n",
       "            Plotly.purge(gd);\n",
       "            observer.disconnect();\n",
       "        }}\n",
       "}});\n",
       "\n",
       "// Listen for the removal of the full notebook cells\n",
       "var notebookContainer = gd.closest('#notebook-container');\n",
       "if (notebookContainer) {{\n",
       "    x.observe(notebookContainer, {childList: true});\n",
       "}}\n",
       "\n",
       "// Listen for the clearing of the current output cell\n",
       "var outputEl = gd.closest('.output');\n",
       "if (outputEl) {{\n",
       "    x.observe(outputEl, {childList: true});\n",
       "}}\n",
       "\n",
       "                        })\n",
       "                };\n",
       "                });\n",
       "            </script>\n",
       "        </div>"
      ]
     },
     "metadata": {},
     "output_type": "display_data"
    }
   ],
   "source": [
    "data1 = dict(type = 'choropleth',\n",
    "           locations = ln_countries.index,\n",
    "           locationmode = 'country names',\n",
    "           colorscale = 'Blackbody',\n",
    "           text = countries.values,\n",
    "           z = ln_countries.values,\n",
    "           colorbar = {'title': 'log of Sum of Movies'})\n",
    "\n",
    "layout = dict(title = 'Movies around the World',\n",
    "             geo = dict(showframe = False,\n",
    "                       projection = {'type': 'natural earth'}))\n",
    "\n",
    "choromap = go.Figure(data = [data1],layout = layout)\n",
    "iplot(choromap,validate=False)\n"
   ]
  },
  {
   "cell_type": "markdown",
   "metadata": {},
   "source": [
    "From the above graph, we have found out the number of movies produced in each country and America has the greatest number of movies produced."
   ]
  },
  {
   "cell_type": "markdown",
   "metadata": {},
   "source": [
    "### Top 10 popular movies:"
   ]
  },
  {
   "cell_type": "code",
   "execution_count": 22,
   "metadata": {
    "scrolled": false
   },
   "outputs": [
    {
     "data": {
      "text/plain": [
       "Text(0.5, 1.0, 'Popular Movies')"
      ]
     },
     "execution_count": 22,
     "metadata": {},
     "output_type": "execute_result"
    },
    {
     "data": {
      "image/png": "[encoded data removed]",
      "text/plain": [
       "<Figure size 864x288 with 1 Axes>"
      ]
     },
     "metadata": {
      "needs_background": "light"
     },
     "output_type": "display_data"
    }
   ],
   "source": [
    "pop= data.astype({'popularity':'float64'}).sort_values('popularity', ascending=False)\n",
    "import matplotlib.pyplot as plt\n",
    "plt.figure(figsize=(12,4))\n",
    "\n",
    "plt.barh(pop['title'].head(10),pop['popularity'].head(10), align='center',\n",
    "        color='skyblue')\n",
    "plt.gca().invert_yaxis()\n",
    "plt.xlabel(\"Popularity\")\n",
    "plt.title(\"Popular Movies\")"
   ]
  },
  {
   "cell_type": "markdown",
   "metadata": {},
   "source": [
    "From the above graph, we have found out the most top 10 popular movies."
   ]
  },
  {
   "cell_type": "markdown",
   "metadata": {},
   "source": [
    "# Conclusion"
   ]
  },
  {
   "cell_type": "markdown",
   "metadata": {},
   "source": [
    "To conclude, we have made use of the past data to analyze and visualize the behaviour of movie selection of people and we can keep update with the live data so as the movie producer can choose what types of movie they will produce in the future."
   ]
  },
  {
   "cell_type": "markdown",
   "metadata": {},
   "source": [
    "# Future Studying"
   ]
  },
  {
   "cell_type": "markdown",
   "metadata": {},
   "source": [
    "As our computer science skills are limited, we suggest that some future work can be done with improved techniques:\n",
    "\n",
    "•\tWe can keep update with the live data as the dataset that we have now is limited to the current and past data; \n",
    "\n",
    "•\tWe can analyze the information on the actors and crew so as to produce the best movie for people;\n",
    "\n",
    "•\tThe behaviour of movie selection can be personalized and tailor-made from the past habits of each person.\n"
   ]
  },
  {
   "cell_type": "code",
   "execution_count": null,
   "metadata": {},
   "outputs": [],
   "source": []
  }
 ],
 "metadata": {
  "kernelspec": {
   "display_name": "Python 3",
   "language": "python",
   "name": "python3"
  },
  "language_info": {
   "codemirror_mode": {
    "name": "ipython",
    "version": 3
   },
   "file_extension": ".py",
   "mimetype": "text/x-python",
   "name": "python",
   "nbconvert_exporter": "python",
   "pygments_lexer": "ipython3",
   "version": "3.7.4"
  }
 },
 "nbformat": 4,
 "nbformat_minor": 2
}
